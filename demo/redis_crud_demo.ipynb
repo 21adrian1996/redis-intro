{
 "cells": [
  {
   "cell_type": "code",
   "execution_count": null,
   "metadata": {},
   "outputs": [],
   "source": [
    "\"\"\"\n",
    "    ____  __________  _________    ____  ________  _______ \n",
    "   / __ \\/ ____/ __ \\/  _/ ___/   / __ \\/ ____/  |/  / __ \\\n",
    "  / /_/ / __/ / / / // / \\__ \\   / / / / __/ / /|_/ / / / /\n",
    " / _, _/ /___/ /_/ // / ___/ /  / /_/ / /___/ /  / / /_/ / \n",
    "/_/ |_/_____/_____/___//____/  /_____/_____/_/  /_/\\____/ \n",
    "\"\"\""
   ]
  },
  {
   "cell_type": "code",
   "execution_count": 242,
   "metadata": {},
   "outputs": [
    {
     "data": {
      "text/plain": [
       "True"
      ]
     },
     "execution_count": 242,
     "metadata": {},
     "output_type": "execute_result"
    }
   ],
   "source": [
    "# Import and instanciate redis object\n",
    "\n",
    "import redis\n",
    "r = redis.Redis()  # No params defaults to Host: localhost and Port: 6379\n",
    "\n",
    "# Remove everithing that is in the databse so we can start from scratch\n",
    "r.flushall()"
   ]
  },
  {
   "cell_type": "markdown",
   "metadata": {},
   "source": [
    "## STRING / INTEGER"
   ]
  },
  {
   "cell_type": "code",
   "execution_count": 248,
   "metadata": {},
   "outputs": [
    {
     "name": "stdout",
     "output_type": "stream",
     "text": [
      "----- CREATE -----\n",
      "Set these strings: b'Bern' b'1030000' b'Hello world'\n",
      "\n",
      "----- READ -----\n",
      "Get by key: b'Bern'\n",
      "Get mutiple by key: [b'Bern', b'1030000']\n",
      "Lenght of the key `Bern` is: 4\n",
      "\n",
      "----- UPDATE -----\n",
      "Greeting changed from `Hello world` to: b'Hello REDIS'\n",
      "Increase population by 1: 1030001\n",
      "Increase population by 99: 1030100\n",
      "\n",
      "----- DELETE -----\n",
      "Deleted key `greeting` - value is: None\n"
     ]
    }
   ],
   "source": [
    "# CREATE VALUES\n",
    "print(\"----- CREATE -----\")\n",
    "r.set(\"name\", \"Bern\")\n",
    "r.set(\"population\", \"1030000\")\n",
    "r.set(\"greeting\", \"Hello world\")\n",
    "r.setnx(\"population\", \"100\") # -> This will not be set due to existing key `population`\n",
    "print('Set these strings:', r.get(\"name\"), r.get(\"population\"), r.get(\"greeting\"))\n",
    "\n",
    "# READ VALUES FROM DB\n",
    "print(\"\\n----- READ -----\")\n",
    "print(f'Get by key: {r.get(\"name\")}')\n",
    "print(f'Get mutiple by key: {r.mget(\"name\", \"population\")}')\n",
    "print(f'Lenght of the key `Bern` is: {r.strlen(\"name\")}')\n",
    "\n",
    "# UPDATE VALUES IN DB\n",
    "print(\"\\n----- UPDATE -----\")\n",
    "r.setrange(\"greeting\", 6, \"REDIS\")\n",
    "print(f'Greeting changed from `Hello world` to: {r.get(\"greeting\")}')\n",
    "print(f'Increase population by 1: {r.incr(\"population\")}')\n",
    "print(f'Increase population by 99: {r.incrby(\"population\", 99)}')\n",
    "\n",
    "# DELETE VALUES FROM DB\n",
    "print(\"\\n----- DELETE -----\")\n",
    "r.delete(\"greeting\")\n",
    "print(f'Deleted key `greeting` - value is: {r.get(\"greeting\")}')\n"
   ]
  },
  {
   "cell_type": "markdown",
   "metadata": {},
   "source": [
    "## LIST"
   ]
  },
  {
   "cell_type": "code",
   "execution_count": 204,
   "metadata": {},
   "outputs": [
    {
     "name": "stdout",
     "output_type": "stream",
     "text": [
      "----- CREATE -----\n",
      "Add item to list [b'Kornhaus', b'Bundehaus']\n",
      "Push to the beginning: [b'Baldachin', b'Kornhaus', b'Bundehaus']\n",
      "Push to the end: [b'Baldachin', b'Kornhaus', b'Bundehaus', b'Zytglogge']\n",
      "Set item by index: [b'Baldachin', b'Kornhaus', b'Rathaus', b'Zytglogge']\n",
      "\n",
      "----- READ -----\n",
      "Get single list item: b'Rathaus'\n",
      "Get range of items:. [b'Baldachin', b'Kornhaus']\n",
      "\n",
      "----- UPDATE -----\n",
      "Pop from the start: b'Baldachin'\n",
      "Pop from the end: b'Zytglogge'\n",
      "\n",
      "----- DELETE -----\n",
      "Remove item by index: [b'Kornhaus', b'Rathaus', b'Marktgasse', b'Marktgasse'] 2 [b'Kornhaus', b'Rathaus']\n"
     ]
    }
   ],
   "source": [
    "# For demo puroposes clear the list every the time we run this cell\n",
    "r.delete(\"buildings\")\n",
    "\n",
    "# CREATE VALUES\n",
    "print(\"----- CREATE -----\")\n",
    "r.lpush(\"buildings\", *[\"Bundehaus\", \"Kornhaus\"])\n",
    "print('Add item to list', r.lrange(\"buildings\", 0, 10))\n",
    "\n",
    "r.lpush(\"buildings\", \"Baldachin\")\n",
    "print('Push to the beginning:', r.lrange(\"buildings\", 0, 10))\n",
    "\n",
    "r.rpush(\"buildings\", \"Zytglogge\")\n",
    "print('Push to the end:', r.lrange(\"buildings\", 0, 10))\n",
    "\n",
    "r.lset(\"buildings\", 2, \"Rathaus\")\n",
    "print('Set item by index:', r.lrange(\"buildings\", 0, 10))\n",
    "\n",
    "# READ VALUES FROM DB\n",
    "print(\"\\n----- READ -----\")\n",
    "print(f'Get single list item: {r.lindex(\"buildings\", 2)}')\n",
    "print(f'Get range of items:. {r.lrange(\"buildings\", 0, 1)}')\n",
    "\n",
    "# UPDATE VALUES IN DB\n",
    "print(\"\\n----- UPDATE -----\")\n",
    "print('Pop from the start:', r.lpop(\"buildings\"))\n",
    "print('Pop from the end:', r.rpop(\"buildings\"))\n",
    "r.rpush(\"buildings\", *[\"Marktgasse\", \"Marktgasse\"])\n",
    "\n",
    "# DELETE VALUES FROM DB\n",
    "print(\"\\n----- DELETE -----\")\n",
    "print('Remove item by index:', r.lrange(\"buildings\", 0, 10), r.lrem(\"buildings\", -2, \"Marktgasse\"), r.lrange(\"buildings\", 0, 10))\n",
    "\n"
   ]
  },
  {
   "cell_type": "markdown",
   "metadata": {},
   "source": [
    "## SET"
   ]
  },
  {
   "cell_type": "code",
   "execution_count": 243,
   "metadata": {
    "scrolled": false
   },
   "outputs": [
    {
     "name": "stdout",
     "output_type": "stream",
     "text": [
      "----- CREATE -----\n",
      "Create 2 set with multiple values: {b'Matte', b'Obstberg', b'Breitsch', b'Lorraine'} {b'Ostring', b'Lorraine'}\n",
      "\n",
      "----- READ -----\n",
      "Get reandom entry from the set: b'Matte'\n",
      "Intersection between the two sets: {b'Lorraine'}\n",
      "Difference between the two sets: {b'Matte', b'Obstberg', b'Breitsch'}\n",
      "Union of the two sets: {b'Obstberg', b'Breitsch', b'Matte', b'Ostring', b'Lorraine'}\n",
      "\n",
      "----- UPDATE -----\n",
      "Move `Matte` from first to second set: {b'Obstberg', b'Breitsch', b'Lorraine'} {b'Matte', b'Ostring', b'Lorraine'}\n",
      "\n",
      "----- DELETE -----\n",
      "Remove `Breitsch` from the first set: {b'Obstberg', b'Lorraine'}\n"
     ]
    }
   ],
   "source": [
    "# For demo puroposes clear the sets every the time we run this cell\n",
    "r.delete(\"districts\", \"districts2\")\n",
    "\n",
    "# CREATE VALUES\n",
    "print(\"----- CREATE -----\")\n",
    "r.sadd(\"districts\", *[\"Breitsch\", \"Lorraine\", \"Matte\", \"Obstberg\"])\n",
    "r.sadd(\"districts2\", *[\"Lorraine\", \"Ostring\"])\n",
    "print('Create 2 set with multiple values:', r.smembers(\"districts\"), r.smembers(\"districts2\"))\n",
    "\n",
    "# READ VALUES FROM DB\n",
    "print(\"\\n----- READ -----\")\n",
    "print('Get reandom entry from the set:', r.srandmember(\"districts\"))\n",
    "print('Intersection between the two sets:', r.sinter(\"districts\", \"districts2\"))\n",
    "print('Difference between the two sets:', r.sdiff(\"districts\", \"districts2\"))\n",
    "print('Union of the two sets:', r.sunion(\"districts\", \"districts2\"))\n",
    "\n",
    "# UPDATE VALUES IN DB\n",
    "print(\"\\n----- UPDATE -----\")\n",
    "r.smove(\"districts\", \"districts2\", \"Matte\")\n",
    "print('Move `Matte` from first to second set:', r.smembers(\"districts\"), r.smembers(\"districts2\"))\n",
    "\n",
    "# DELETE VALUES FROM DB\n",
    "print(\"\\n----- DELETE -----\")\n",
    "r.srem(\"districts\", \"Breitsch\")\n",
    "print('Remove `Breitsch` from the first set:', r.smembers(\"districts\"))\n"
   ]
  },
  {
   "cell_type": "markdown",
   "metadata": {},
   "source": [
    "## HASH"
   ]
  },
  {
   "cell_type": "code",
   "execution_count": 245,
   "metadata": {},
   "outputs": [
    {
     "name": "stdout",
     "output_type": "stream",
     "text": [
      "----- CREATE -----\n",
      "Create bus hash: {b'30': b'Marzilistrasse', b'10': b'Ostermundigen', b'20': b'Wankdorf'}\n",
      "Create KM hash: {b'30': b'100', b'10': b'145.3', b'20': b'200'}\n",
      "\n",
      "----- READ -----\n",
      "Get all values of the hash: [b'Marzilistrasse', b'Ostermundigen', b'Wankdorf']\n",
      "Get all values of the hash: [b'100', b'145.3', b'200']\n",
      "Get single value by key: b'Ostermundigen'\n",
      "Get multiple value by key: [b'Ostermundigen', b'Marzilistrasse']\n",
      "\n",
      "----- UPDATE -----\n",
      "Increment KM of line 30 by 5km to: 105\n",
      "Increment KM of line 10 by 5.5km to: 150.8\n",
      "\n",
      "----- DELETE -----\n",
      "Remove line 30 from bot sets: {b'10': b'Ostermundigen', b'20': b'Wankdorf'} {b'10': b'150.8', b'20': b'200'}\n"
     ]
    }
   ],
   "source": [
    "# CREATE VALUES\n",
    "print(\"----- CREATE -----\")\n",
    "r.hmset(\"buses\", {30: \"Marzilistrasse\", 10: \"Ostermundigen\", 20: \"Wankdorf\"})\n",
    "r.hmset(\"km\", {30: 100, 10: 145.3, 20: 200})\n",
    "print('Create bus hash:', r.hgetall(\"buses\"))\n",
    "print('Create KM hash:', r.hgetall(\"km\"))\n",
    "\n",
    "# READ VALUES FROM DB\n",
    "print(\"\\n----- READ -----\")\n",
    "print('Get all values of the hash:', r.hvals(\"buses\"))\n",
    "print('Get all values of the hash:', r.hvals(\"km\"))\n",
    "print('Get single value by key:', r.hget(\"buses\", 10))\n",
    "print('Get multiple value by key:', r.hmget(\"buses\", 10, 30))\n",
    "\n",
    "# UPDATE VALUES IN DB\n",
    "print(\"\\n----- UPDATE -----\")\n",
    "print('Increment KM of line 30 by 5km to:', r.hincrby(\"km\", 30, 5))\n",
    "print('Increment KM of line 10 by 5.5km to:', r.hincrbyfloat(\"km\", 10, 5.5))\n",
    "\n",
    "# DELETE VALUES FROM DB\n",
    "print(\"\\n----- DELETE -----\")\n",
    "r.hdel(\"buses\", 30)\n",
    "r.hdel(\"km\", 30)\n",
    "print('Remove line 30 from bot sets:', r.hgetall(\"buses\"), r.hgetall(\"km\"))"
   ]
  },
  {
   "cell_type": "markdown",
   "metadata": {},
   "source": [
    "## SORTED SET"
   ]
  },
  {
   "cell_type": "code",
   "execution_count": 275,
   "metadata": {},
   "outputs": [
    {
     "name": "stdout",
     "output_type": "stream",
     "text": [
      "----- CREATE -----\n",
      "Create a sorted set with these values (ordered by line): [b'Weissenbuehl', b'Buempliz', b'Wankdorf']\n",
      "\n",
      "----- READ -----\n",
      "The set is 3 items long\n",
      "There is 2 tram lines with a linenumber lower than 8\n",
      "The tram going to `Wankdorf` has linenumber 9.0\n",
      "Reqad values in reverse order: [b'Wankdorf', b'Buempliz', b'Weissenbuehl']\n",
      "\n",
      "----- UPDATE -----\n",
      "Let us increase the line number of the tram to `Bümpliz` by 1 to: 8.0\n",
      "\n",
      "----- DELETE -----\n",
      "Remove all trams with linenumbers lower than 8: [b'Wankdorf']\n"
     ]
    }
   ],
   "source": [
    "# For demo puroposes clear the sets every the time we run this cell\n",
    "r.delete(\"trams\")\n",
    "\n",
    "# CREATE VALUES\n",
    "print(\"----- CREATE -----\")\n",
    "r.zadd(\"trams\", {\"Wankdorf\": \"9\", \"Weissenbuehl\": \"3\", \"Buempliz\": \"7\"})\n",
    "print('Create a sorted set with these values (ordered by line):', r.zrange(\"trams\", 0, 10))\n",
    "\n",
    "# READ VALUES FROM DB\n",
    "print(\"\\n----- READ -----\")\n",
    "print('The set is', r.zcard(\"trams\"), 'items long')\n",
    "print('There is', r.zcount(\"trams\", 0, 8), 'tram lines with a linenumber lower than 8')\n",
    "print('The tram going to `Wankdorf` has linenumber', r.zscore(\"trams\", \"Wankdorf\"))\n",
    "print('Reqad values in reverse order:', r.zrevrangebyscore(\"trams\", 10, 0))\n",
    "\n",
    "# UPDATE VALUES IN DB\n",
    "print(\"\\n----- UPDATE -----\")\n",
    "print('Let us increase the line number of the tram to `Bümpliz` by 1 to:', r.zincrby(\"trams\", 1, \"Buempliz\"))\n",
    "\n",
    "# DELETE VALUES FROM DB\n",
    "print(\"\\n----- DELETE -----\")\n",
    "r.zremrangebyrank(\"trams\", 0, 1)\n",
    "print('Remove all trams with linenumbers lower than 8:', r.zrange(\"trams\", 0, 10))"
   ]
  },
  {
   "cell_type": "markdown",
   "metadata": {},
   "source": [
    "## BITMAP\n",
    "Bitmaps are not an actual data type, but a set of bit-oriented operations defined on the String type."
   ]
  },
  {
   "cell_type": "code",
   "execution_count": 201,
   "metadata": {},
   "outputs": [
    {
     "name": "stdout",
     "output_type": "stream",
     "text": [
      "If we set the 5th bit of a key we will get: b'\\x14'\n",
      "The 4th bit is set to: 0\n",
      "The first bit set to 1 is at position: 3\n",
      "2 bits are cureently set to 1\n"
     ]
    }
   ],
   "source": [
    "# CREATE VALUES\n",
    "r.setbit(\"bernBit\", 5, 1)\n",
    "r.setbit(\"bernBit\", 3, 1)\n",
    "\n",
    "# READ VALUES FROM DB\n",
    "print('If we set the 5th bit of a key we will get:', r.get(\"bernBit\"))\n",
    "print('The 4th bit is set to:', r.getbit(\"bernBit\", 4))\n",
    "print('The first bit set to 1 is at position:', r.bitpos(\"bernBit\", 1))\n",
    "print(r.bitcount(\"bernBit\"), \"bits are cureently set to 1\")"
   ]
  },
  {
   "cell_type": "markdown",
   "metadata": {},
   "source": [
    "## HYPERLOG LOGS\n",
    "A HyperLogLog is a probabilistic data structure used in order to count unique things (technically this is referred to estimating the cardinality of a set)"
   ]
  },
  {
   "cell_type": "code",
   "execution_count": 203,
   "metadata": {},
   "outputs": [
    {
     "name": "stdout",
     "output_type": "stream",
     "text": [
      "Hayperlogs work like sets - so the count of `[\"Bäreplatz\", \"Eigerplatz\", \"Helvetiaplatz\", \"Bäreplatz\"]` is: 3\n"
     ]
    }
   ],
   "source": [
    "r.pfadd(\"places\", \"Bäreplatz\", \"Eigerplatz\", \"Helvetiaplatz\", \"Bäreplatz\")\n",
    "print('Hayperlogs work like sets - so the count of `[\"Bäreplatz\", \"Eigerplatz\", \"Helvetiaplatz\", \"Bäreplatz\"]` is:', r.pfcount(\"places\"))"
   ]
  }
 ],
 "metadata": {
  "kernelspec": {
   "display_name": "Python 3",
   "language": "python",
   "name": "python3"
  },
  "language_info": {
   "codemirror_mode": {
    "name": "ipython",
    "version": 3
   },
   "file_extension": ".py",
   "mimetype": "text/x-python",
   "name": "python",
   "nbconvert_exporter": "python",
   "pygments_lexer": "ipython3",
   "version": "3.7.4"
  }
 },
 "nbformat": 4,
 "nbformat_minor": 2
}
